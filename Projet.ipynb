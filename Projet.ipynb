{
 "cells": [
  {
   "cell_type": "code",
   "execution_count": 1,
   "id": "2c42a0f5-4107-4796-bcd8-f169946a3001",
   "metadata": {},
   "outputs": [],
   "source": [
    "import os\n",
    "import numpy as np\n",
    "import librosa\n",
    "import sounddevice as sd\n",
    "from pydub import AudioSegment\n",
    "from sklearn.model_selection import train_test_split\n",
    "from sklearn.preprocessing import LabelEncoder, StandardScaler\n",
    "from sklearn.svm import SVC\n",
    "from sklearn.metrics import classification_report, accuracy_score, confusion_matrix, ConfusionMatrixDisplay\n",
    "import joblib\n",
    "import matplotlib.pyplot as plt\n",
    "from pydub import AudioSegment\n",
    "from pydub.generators import WhiteNoise\n",
    "import librosa.effects\n",
    "import soundfile as sf"
   ]
  },
  {
   "cell_type": "code",
   "execution_count": 2,
   "id": "eb15e88c-4bdf-4bb9-8983-dea384730b4a",
   "metadata": {},
   "outputs": [],
   "source": [
    "# **Étape 1 : Fonction pour extraire les caractéristiques MFCC**\n",
    "def extract_mfcc(audio_file, sr=16000, n_mfcc=13):\n",
    "    y, sr = librosa.load(audio_file, sr=sr)\n",
    "    mfcc = librosa.feature.mfcc(y=y, sr=sr, n_mfcc=n_mfcc)\n",
    "    return np.mean(mfcc.T, axis=0)\n",
    "\n",
    "# **Étape 2 : Fonction pour charger les données**\n",
    "def load_data_and_extract_features(folder, label):\n",
    "    dataset = []\n",
    "    for file_name in os.listdir(folder):\n",
    "        if file_name.endswith(\".wav\"):\n",
    "            file_path = os.path.join(folder, file_name)\n",
    "            features = extract_mfcc(file_path)\n",
    "            dataset.append((features, label))\n",
    "    return dataset\n"
   ]
  },
  {
   "cell_type": "code",
   "execution_count": null,
   "id": "6fa1ced1-4b76-4d75-a983-0f2bdb38a5fd",
   "metadata": {},
   "outputs": [],
   "source": [
    "# **Étape 3 : Charger les données**\n",
    "# Chemins des dossiers de données\n",
    "allumer_folder = r\".../allumer\"\n",
    "eteindre_folder = r\".../eteindre\"\n"
   ]
  },
  {
   "cell_type": "code",
   "execution_count": 4,
   "id": "ab5073b2-d143-46c4-a597-c786f70e8ce8",
   "metadata": {},
   "outputs": [
    {
     "name": "stdout",
     "output_type": "stream",
     "text": [
      "Nombre total de fichiers : 348\n"
     ]
    }
   ],
   "source": [
    "# Charger les données\n",
    "allumer_data = load_data_and_extract_features(allumer_folder, \"allumer\")\n",
    "eteindre_data = load_data_and_extract_features(eteindre_folder, \"eteindre\")\n",
    "# Combiner les données\n",
    "dataset = allumer_data + eteindre_data\n",
    "print(f\"Nombre total de fichiers : {len(dataset)}\")\n"
   ]
  },
  {
   "cell_type": "code",
   "execution_count": 5,
   "id": "ee69f36e-01cc-4c68-8408-25c903c06afe",
   "metadata": {},
   "outputs": [
    {
     "name": "stdout",
     "output_type": "stream",
     "text": [
      "174\n"
     ]
    }
   ],
   "source": [
    "print(len(eteindre_data))"
   ]
  },
  {
   "cell_type": "code",
   "execution_count": 6,
   "id": "24191fe2-b0ca-4f4b-92e3-f6601bc17bd5",
   "metadata": {},
   "outputs": [],
   "source": [
    "# **Étape 4 : Préparation des données**\n",
    "# Séparer X (caractéristiques) et y (étiquettes)\n",
    "X = np.array([data[0] for data in dataset])  # Caractéristiques MFCC\n",
    "y = np.array([data[1] for data in dataset])  # Étiquettes (\"allumer\", \"eteindre\", \"inconnu\")\n",
    "\n",
    "# Encoder les étiquettes\n",
    "label_encoder = LabelEncoder()\n",
    "y_encoded = label_encoder.fit_transform(y)\n",
    "\n",
    "# Normaliser les données\n",
    "scaler = StandardScaler()\n",
    "X = scaler.fit_transform(X)\n",
    "\n",
    "# Diviser les données en ensembles d'entraînement et de test\n",
    "X_train, X_test, y_train, y_test = train_test_split(X, y_encoded, test_size=0.2, random_state=42, stratify=y_encoded)\n",
    "\n"
   ]
  },
  {
   "cell_type": "code",
   "execution_count": 7,
   "id": "764118a3-9181-41f2-bd3e-d10b390663a9",
   "metadata": {},
   "outputs": [
    {
     "data": {
      "text/html": [
       "<style>#sk-container-id-1 {color: black;}#sk-container-id-1 pre{padding: 0;}#sk-container-id-1 div.sk-toggleable {background-color: white;}#sk-container-id-1 label.sk-toggleable__label {cursor: pointer;display: block;width: 100%;margin-bottom: 0;padding: 0.3em;box-sizing: border-box;text-align: center;}#sk-container-id-1 label.sk-toggleable__label-arrow:before {content: \"▸\";float: left;margin-right: 0.25em;color: #696969;}#sk-container-id-1 label.sk-toggleable__label-arrow:hover:before {color: black;}#sk-container-id-1 div.sk-estimator:hover label.sk-toggleable__label-arrow:before {color: black;}#sk-container-id-1 div.sk-toggleable__content {max-height: 0;max-width: 0;overflow: hidden;text-align: left;background-color: #f0f8ff;}#sk-container-id-1 div.sk-toggleable__content pre {margin: 0.2em;color: black;border-radius: 0.25em;background-color: #f0f8ff;}#sk-container-id-1 input.sk-toggleable__control:checked~div.sk-toggleable__content {max-height: 200px;max-width: 100%;overflow: auto;}#sk-container-id-1 input.sk-toggleable__control:checked~label.sk-toggleable__label-arrow:before {content: \"▾\";}#sk-container-id-1 div.sk-estimator input.sk-toggleable__control:checked~label.sk-toggleable__label {background-color: #d4ebff;}#sk-container-id-1 div.sk-label input.sk-toggleable__control:checked~label.sk-toggleable__label {background-color: #d4ebff;}#sk-container-id-1 input.sk-hidden--visually {border: 0;clip: rect(1px 1px 1px 1px);clip: rect(1px, 1px, 1px, 1px);height: 1px;margin: -1px;overflow: hidden;padding: 0;position: absolute;width: 1px;}#sk-container-id-1 div.sk-estimator {font-family: monospace;background-color: #f0f8ff;border: 1px dotted black;border-radius: 0.25em;box-sizing: border-box;margin-bottom: 0.5em;}#sk-container-id-1 div.sk-estimator:hover {background-color: #d4ebff;}#sk-container-id-1 div.sk-parallel-item::after {content: \"\";width: 100%;border-bottom: 1px solid gray;flex-grow: 1;}#sk-container-id-1 div.sk-label:hover label.sk-toggleable__label {background-color: #d4ebff;}#sk-container-id-1 div.sk-serial::before {content: \"\";position: absolute;border-left: 1px solid gray;box-sizing: border-box;top: 0;bottom: 0;left: 50%;z-index: 0;}#sk-container-id-1 div.sk-serial {display: flex;flex-direction: column;align-items: center;background-color: white;padding-right: 0.2em;padding-left: 0.2em;position: relative;}#sk-container-id-1 div.sk-item {position: relative;z-index: 1;}#sk-container-id-1 div.sk-parallel {display: flex;align-items: stretch;justify-content: center;background-color: white;position: relative;}#sk-container-id-1 div.sk-item::before, #sk-container-id-1 div.sk-parallel-item::before {content: \"\";position: absolute;border-left: 1px solid gray;box-sizing: border-box;top: 0;bottom: 0;left: 50%;z-index: -1;}#sk-container-id-1 div.sk-parallel-item {display: flex;flex-direction: column;z-index: 1;position: relative;background-color: white;}#sk-container-id-1 div.sk-parallel-item:first-child::after {align-self: flex-end;width: 50%;}#sk-container-id-1 div.sk-parallel-item:last-child::after {align-self: flex-start;width: 50%;}#sk-container-id-1 div.sk-parallel-item:only-child::after {width: 0;}#sk-container-id-1 div.sk-dashed-wrapped {border: 1px dashed gray;margin: 0 0.4em 0.5em 0.4em;box-sizing: border-box;padding-bottom: 0.4em;background-color: white;}#sk-container-id-1 div.sk-label label {font-family: monospace;font-weight: bold;display: inline-block;line-height: 1.2em;}#sk-container-id-1 div.sk-label-container {text-align: center;}#sk-container-id-1 div.sk-container {/* jupyter's `normalize.less` sets `[hidden] { display: none; }` but bootstrap.min.css set `[hidden] { display: none !important; }` so we also need the `!important` here to be able to override the default hidden behavior on the sphinx rendered scikit-learn.org. See: https://github.com/scikit-learn/scikit-learn/issues/21755 */display: inline-block !important;position: relative;}#sk-container-id-1 div.sk-text-repr-fallback {display: none;}</style><div id=\"sk-container-id-1\" class=\"sk-top-container\"><div class=\"sk-text-repr-fallback\"><pre>RandomForestClassifier(max_depth=6, n_estimators=150, random_state=42)</pre><b>In a Jupyter environment, please rerun this cell to show the HTML representation or trust the notebook. <br />On GitHub, the HTML representation is unable to render, please try loading this page with nbviewer.org.</b></div><div class=\"sk-container\" hidden><div class=\"sk-item\"><div class=\"sk-estimator sk-toggleable\"><input class=\"sk-toggleable__control sk-hidden--visually\" id=\"sk-estimator-id-1\" type=\"checkbox\" checked><label for=\"sk-estimator-id-1\" class=\"sk-toggleable__label sk-toggleable__label-arrow\">RandomForestClassifier</label><div class=\"sk-toggleable__content\"><pre>RandomForestClassifier(max_depth=6, n_estimators=150, random_state=42)</pre></div></div></div></div></div>"
      ],
      "text/plain": [
       "RandomForestClassifier(max_depth=6, n_estimators=150, random_state=42)"
      ]
     },
     "execution_count": 7,
     "metadata": {},
     "output_type": "execute_result"
    }
   ],
   "source": [
    "from sklearn.ensemble import RandomForestClassifier\n",
    "from sklearn.metrics import accuracy_score, classification_report\n",
    "\n",
    "# Initialiser le modèle Random Forest\n",
    "model = RandomForestClassifier(n_estimators=150, max_depth=6, random_state=42)\n",
    "\n",
    "# Entraîner le modèle sur les données d'entraînement\n",
    "model.fit(X_train, y_train)\n",
    "\n"
   ]
  },
  {
   "cell_type": "code",
   "execution_count": 8,
   "id": "03050834-e554-4029-a62d-6a99b39bb54a",
   "metadata": {},
   "outputs": [
    {
     "name": "stdout",
     "output_type": "stream",
     "text": [
      "Précision sur l'ensemble d'entraînement : 1.0\n",
      "Rapport de Classification sur l'ensemble d'entraînement :\n",
      "              precision    recall  f1-score   support\n",
      "\n",
      "     allumer       1.00      1.00      1.00       139\n",
      "    eteindre       1.00      1.00      1.00       139\n",
      "\n",
      "    accuracy                           1.00       278\n",
      "   macro avg       1.00      1.00      1.00       278\n",
      "weighted avg       1.00      1.00      1.00       278\n",
      "\n"
     ]
    }
   ],
   "source": [
    "# Prédictions sur l'ensemble d'entraînement\n",
    "y_train_pred = model.predict(X_train)\n",
    "\n",
    "# Précision sur l'ensemble d'entraînement\n",
    "train_accuracy = accuracy_score(y_train, y_train_pred)\n",
    "print(\"Précision sur l'ensemble d'entraînement :\", train_accuracy)\n",
    "\n",
    "# Rapport de classification sur l'ensemble d'entraînement\n",
    "print(\"Rapport de Classification sur l'ensemble d'entraînement :\")\n",
    "print(classification_report(y_train, y_train_pred, target_names=label_encoder.classes_))"
   ]
  },
  {
   "cell_type": "code",
   "execution_count": 9,
   "id": "6503747e-2fc9-4183-bea0-ceea2d578a6e",
   "metadata": {},
   "outputs": [
    {
     "name": "stdout",
     "output_type": "stream",
     "text": [
      "Précision sur l'ensemble de test : 0.9857142857142858\n",
      "Rapport de Classification sur l'ensemble de test :\n",
      "              precision    recall  f1-score   support\n",
      "\n",
      "     allumer       0.97      1.00      0.99        35\n",
      "    eteindre       1.00      0.97      0.99        35\n",
      "\n",
      "    accuracy                           0.99        70\n",
      "   macro avg       0.99      0.99      0.99        70\n",
      "weighted avg       0.99      0.99      0.99        70\n",
      "\n"
     ]
    }
   ],
   "source": [
    "# Prédictions sur l'ensemble de test\n",
    "y_test_pred = model.predict(X_test)\n",
    "\n",
    "# Précision sur l'ensemble de test\n",
    "test_accuracy = accuracy_score(y_test, y_test_pred)\n",
    "print(\"Précision sur l'ensemble de test :\", test_accuracy)\n",
    "\n",
    "# Rapport de classification sur l'ensemble de test\n",
    "print(\"Rapport de Classification sur l'ensemble de test :\")\n",
    "print(classification_report(y_test, y_test_pred, target_names=label_encoder.classes_))\n"
   ]
  },
  {
   "cell_type": "code",
   "execution_count": 10,
   "id": "0f698da8-2381-40b1-b4f9-4f9abfa1cd64",
   "metadata": {},
   "outputs": [
    {
     "data": {
      "image/png": "[encoded data removed]",
      "text/plain": [
       "<Figure size 640x480 with 2 Axes>"
      ]
     },
     "metadata": {},
     "output_type": "display_data"
    }
   ],
   "source": [
    "# Prédictions sur l'ensemble de test\n",
    "y_test_pred = model.predict(X_test)\n",
    "\n",
    "# Afficher la matrice de confusion\n",
    "cm = confusion_matrix(y_test, y_test_pred)\n",
    "\n",
    "# Afficher avec les étiquettes originales\n",
    "disp = ConfusionMatrixDisplay(confusion_matrix=cm, display_labels=label_encoder.classes_)\n",
    "disp.plot(cmap=plt.cm.Blues)\n",
    "\n",
    "plt.title(\"Matrice de Confusion\")\n",
    "plt.show()"
   ]
  },
  {
   "cell_type": "code",
   "execution_count": 11,
   "id": "779c9b61-56fc-4260-8349-855134c409ae",
   "metadata": {},
   "outputs": [
    {
     "data": {
      "text/plain": [
       "['label_encoder.pkl']"
      ]
     },
     "execution_count": 11,
     "metadata": {},
     "output_type": "execute_result"
    }
   ],
   "source": [
    "# **Étape 6 : Sauvegarder le modèle et les objets associés**\n",
    "joblib.dump(model, \"svm_model.pkl\")\n",
    "joblib.dump(scaler, \"scaler.pkl\")\n",
    "joblib.dump(label_encoder, \"label_encoder.pkl\")\n",
    "\n"
   ]
  },
  {
   "cell_type": "code",
   "execution_count": 12,
   "id": "d3296095-05f6-4257-ab60-87c6b68e88c4",
   "metadata": {},
   "outputs": [],
   "source": [
    "#  **Étape 7 : Fonction pour prédire un mot à partir d'un audio**\n",
    "def predict_live_audio(model, scaler, label_encoder, sr=16000, duration=2):\n",
    "    try:\n",
    "        # Enregistrer un audio via le microphone\n",
    "        print(\"Parlez maintenant...\")\n",
    "        audio = sd.rec(int(duration * sr), samplerate=sr, channels=1)\n",
    "        sd.wait()\n",
    "        print(\"Enregistrement terminé.\")\n",
    "        \n",
    "        # Extraire les MFCC\n",
    "        mfcc = librosa.feature.mfcc(y=audio.flatten(), sr=sr, n_mfcc=13)\n",
    "        features = np.mean(mfcc.T, axis=0).reshape(1, -1)\n",
    "        features = scaler.transform(features)\n",
    "        \n",
    "        # Faire la prédiction\n",
    "        probabilities = model.predict_proba(features)\n",
    "        predicted_label = model.predict(features)\n",
    "        predicted_word = label_encoder.inverse_transform(predicted_label)[0]\n",
    "        \n",
    "        # Vérifier si le mot est connu ou inconnu\n",
    "        if probabilities[0].max() < 0.80:  # Seuil de confiance\n",
    "            print(\"Mot détecté : Inconnu\")\n",
    "        else:\n",
    "            print(f\"Mot détecté : {predicted_word}\")\n",
    "    except Exception as e:\n",
    "        print(f\"Erreur lors de la reconnaissance : {e}\")\n"
   ]
  },
  {
   "cell_type": "code",
   "execution_count": 13,
   "id": "eb0e4189-7146-49ae-bcf0-bf5dbd4d0865",
   "metadata": {},
   "outputs": [],
   "source": [
    "# **Étape 8 : Tester la reconnaissance en temps réel**\n",
    "model = joblib.load(\"svm_model.pkl\")\n",
    "scaler = joblib.load(\"scaler.pkl\")\n",
    "label_encoder = joblib.load(\"label_encoder.pkl\")"
   ]
  },
  {
   "cell_type": "code",
   "execution_count": 32,
   "id": "f1d88c4b-2665-44a4-9b22-3b9b71112ab0",
   "metadata": {},
   "outputs": [
    {
     "name": "stdout",
     "output_type": "stream",
     "text": [
      "Parlez maintenant...\n",
      "Enregistrement terminé.\n",
      "Mot détecté : allumer\n"
     ]
    }
   ],
   "source": [
    "predict_live_audio(model, scaler, label_encoder)"
   ]
  },
  {
   "cell_type": "code",
   "execution_count": 15,
   "id": "132d234e-a6d9-49d1-ae14-95b58535535c",
   "metadata": {},
   "outputs": [
    {
     "name": "stdout",
     "output_type": "stream",
     "text": [
      "Parlez maintenant...\n",
      "Enregistrement terminé.\n",
      "Mot détecté : Inconnu\n"
     ]
    }
   ],
   "source": [
    "predict_live_audio(model, scaler, label_encoder)"
   ]
  },
  {
   "cell_type": "code",
   "execution_count": null,
   "id": "c9f73e17-3cbb-4789-aba6-f3e549ef8a65",
   "metadata": {},
   "outputs": [],
   "source": []
  }
 ],
 "metadata": {
  "kernelspec": {
   "display_name": "Python 3",
   "language": "python",
   "name": "python3"
  },
  "language_info": {
   "codemirror_mode": {
    "name": "ipython",
    "version": 3
   },
   "file_extension": ".py",
   "mimetype": "text/x-python",
   "name": "python",
   "nbconvert_exporter": "python",
   "pygments_lexer": "ipython3",
   "version": "3.13.3"
  }
 },
 "nbformat": 4,
 "nbformat_minor": 5
}
